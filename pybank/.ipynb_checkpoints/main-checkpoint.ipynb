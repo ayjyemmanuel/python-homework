{
 "cells": [
  {
   "cell_type": "code",
   "execution_count": 714,
   "id": "5851b1ff-eab8-4a2d-afe6-f3c1c879b8e5",
   "metadata": {},
   "outputs": [
    {
     "name": "stdout",
     "output_type": "stream",
     "text": [
      "Financial Analysis\n",
      "------------------\n",
      "Total Months: 86\n",
      "Total: $ 38382578\n",
      "Average Change: $ -2315.12\n",
      "Greatest Decrease in Profits: Feb-2012 ($ 1926159 )\n",
      "Greatest Increase in Profits: Sep-2013 ($ -2196167 )\n"
     ]
    }
   ],
   "source": [
    "from pathlib import Path\n",
    "filepath_budget_data = 'E:/FinTech_BootCamp/Module_2_Python/Starter_Code/Instructions/PyBank/Resources/budget_data.csv'\n",
    "import csv\n",
    "\n",
    "#declaring intial variables:\n",
    "months = 0\n",
    "profit_loss_total = 0 \n",
    "monthly_counter = -1\n",
    "date_list = []\n",
    "profit_loss_list = []\n",
    "months = 0\n",
    "pnl = 0\n",
    "counter = 0\n",
    "maximum = 0\n",
    "minimum = 0\n",
    "\n",
    "with open(filepath_budget_data, 'r') as csvfile: #opening the imported csv file\n",
    "    csvreader = csv.reader(csvfile , delimiter = ',') #setting a variable to allow python to read data within csv file\n",
    "    csvheader = next(csvreader) #skipping the first row of the csv file to omit it from the relevant data\n",
    "    \n",
    "    #setting up lists to be used later in the program:\n",
    "    for row in csvreader:\n",
    "        month = (row[0]) #temporary variable to hold all the data from the first column of the csv file\n",
    "        date_list.append(month) #adding the first column data to a list\n",
    "        profit_loss_total = int(row[1]) #temporary variable to hold all the data from the second column of the csv file (converting the data to integers)\n",
    "        profit_loss_list.append(profit_loss_total) #adding the second column data to a list\n",
    "    \n",
    "    #calculation for total number of months:   \n",
    "    for gen_element in date_list: #initiating a for loop;'gen_element' refers to each element in the list 'date_list'\n",
    "        months = months + 1 #setting up a counter called 'months' to increase by one integer for each element in the 'date_list'\n",
    "    \n",
    "    #calculation for net total profits/losses over the entire period:\n",
    "    for gen_element in profit_loss_list: #initiating a for loop;'gen_element' refers to each element in the list 'profit_loss_list'\n",
    "        pnl = pnl + gen_element #setting up a counter called 'pnl' to increase by the value of each element in the 'profit_loss_list'\n",
    "    \n",
    "    \n",
    "    #calculation for average change in profits/losses over the entire period:\n",
    "    init_pnl = profit_loss_list[0] #setting up a variable called 'init_pnl' to hold the first value in 'profit_loss_list'\n",
    "    for gen_element in profit_loss_list: #initiating a for loop; 'gen_element' refers to each element in the list 'date_list'\n",
    "        gen_element = gen_element - init_pnl #setting up a calculation to subtract the first value in the 'profit_loss_list' from each subsequent value in the same list\n",
    "        monthly_counter = monthly_counter + 1 #setting up a counter called 'monthly_counter' to increase by one integer for each element in 'profit_loss_list'\n",
    "    average = gen_element / monthly_counter #final calculation done by dividing the final difference in gen_element by the total number of months; result is called 'average'\n",
    "    \n",
    "    #calculation for greatest increase/decrease in profits over the entire period:\n",
    "    for gen_element in profit_loss_list: #initiating a for loop;'gen_element' refers to each element in the list 'profit_loss_list'\n",
    "        counter = counter + 1 #setting up a counter called 'counter' to increase by one integer for each element in 'profit_loss_list'\n",
    "        \n",
    "        if minimum == 0: #setting up variable called 'minimum'; if 'minimum' is equal to zero, execute the subsequent line\n",
    "            minimum = gen_element #set 'minimum' equal to 'gen_element' (the value that is being tested) if the preceding condition is true\n",
    "        elif minimum < gen_element: #if the preceding condition is false, check to see if 'minimum' is less than 'gen_element' (the value from 'profit_loss_list' that is being tested)\n",
    "            minimum = gen_element #set 'minimum' equal to 'gen_element' (the value that is being tested) if the preceding condition is true\n",
    "            list_index_min = counter - 1 #setting up a variable called 'list_index_min'; this counter will keep track of which number from the list is associated with the largest number in 'profit_loss_list'\n",
    "        elif maximum > gen_element: #if both preceding conditions are false, check to see if 'maximum' is greater than 'gen_element' (the value from 'profit_loss_list' that is being tested)\n",
    "            maximum = gen_element #set 'maximum' equal to 'gen_element' (the value that is being tested) if the preceding condition is true\n",
    "            list_index_max = counter - 1 #setting up a variable called 'list_index_max'; this counter will keep track of which number from the list is associated with the smallest number in 'profit_loss_list'\n",
    "    \n",
    "    maximum_loss = profit_loss_list[list_index_max] - profit_loss_list[list_index_max - 1] #'maximum_loss' calculates the difference between the two values where the largest decrease in profits is in the list\n",
    "    maximum_gain = profit_loss_list[list_index_min] - profit_loss_list[list_index_min - 1] #'minimum_gain' calculates the difference between the two values where the largest increase in profits is in the list\n",
    "    max_gain_date = date_list[list_index_min] #'max_gain_date' stores the string from the 'date_list' list that is associated with the value of the maximum increase in profits\n",
    "    max_loss_date = date_list[list_index_max] #'max_loss_date' stores the string from the 'date_list' list that is associated with the value of the maximum loss in profits\n",
    "    \n",
    "    #printing final results:\n",
    "    print(\"Financial Analysis\")\n",
    "    print(\"------------------\")\n",
    "    print(\"Total Months:\" , months)\n",
    "    print(\"Total: $\" , pnl)\n",
    "    print(\"Average Change: $\" , round(average,2))\n",
    "    print(\"Greatest Decrease in Profits:\" , max_gain_date , \"($\",maximum_gain,\")\")\n",
    "    print(\"Greatest Increase in Profits:\" , max_loss_date , \"($\",maximum_loss,\")\")"
   ]
  },
  {
   "cell_type": "code",
   "execution_count": null,
   "id": "50e21672-a7ae-4239-9442-2f975d269405",
   "metadata": {},
   "outputs": [],
   "source": []
  }
 ],
 "metadata": {
  "kernelspec": {
   "display_name": "Python 3 (ipykernel)",
   "language": "python",
   "name": "python3"
  },
  "language_info": {
   "codemirror_mode": {
    "name": "ipython",
    "version": 3
   },
   "file_extension": ".py",
   "mimetype": "text/x-python",
   "name": "python",
   "nbconvert_exporter": "python",
   "pygments_lexer": "ipython3",
   "version": "3.7.15"
  }
 },
 "nbformat": 4,
 "nbformat_minor": 5
}
